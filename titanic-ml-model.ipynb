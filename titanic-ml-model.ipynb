{
 "cells": [
  {
   "cell_type": "code",
   "execution_count": 1,
   "id": "cb4535f9",
   "metadata": {
    "_cell_guid": "b1076dfc-b9ad-4769-8c92-a6c4dae69d19",
    "_uuid": "8f2839f25d086af736a60e9eeb907d3b93b6e0e5",
    "execution": {
     "iopub.execute_input": "2022-05-31T17:26:45.520440Z",
     "iopub.status.busy": "2022-05-31T17:26:45.519649Z",
     "iopub.status.idle": "2022-05-31T17:26:45.534625Z",
     "shell.execute_reply": "2022-05-31T17:26:45.533675Z"
    },
    "papermill": {
     "duration": 0.027765,
     "end_time": "2022-05-31T17:26:45.536782",
     "exception": false,
     "start_time": "2022-05-31T17:26:45.509017",
     "status": "completed"
    },
    "tags": []
   },
   "outputs": [
    {
     "name": "stdout",
     "output_type": "stream",
     "text": [
      "/kaggle/input/titanic/train.csv\n",
      "/kaggle/input/titanic/test.csv\n",
      "/kaggle/input/titanic/gender_submission.csv\n"
     ]
    }
   ],
   "source": [
    "# This Python 3 environment comes with many helpful analytics libraries installed\n",
    "# It is defined by the kaggle/python Docker image: https://github.com/kaggle/docker-python\n",
    "# For example, here's several helpful packages to load\n",
    "\n",
    "import numpy as np # linear algebra\n",
    "import pandas as pd # data processing, CSV file I/O (e.g. pd.read_csv)\n",
    "\n",
    "# Input data files are available in the read-only \"../input/\" directory\n",
    "# For example, running this (by clicking run or pressing Shift+Enter) will list all files under the input directory\n",
    "\n",
    "import os\n",
    "for dirname, _, filenames in os.walk('/kaggle/input'):\n",
    "    for filename in filenames:\n",
    "        print(os.path.join(dirname, filename))\n",
    "\n",
    "# You can write up to 20GB to the current directory (/kaggle/working/) that gets preserved as output when you create a version using \"Save & Run All\" \n",
    "# You can also write temporary files to /kaggle/temp/, but they won't be saved outside of the current session"
   ]
  },
  {
   "cell_type": "code",
   "execution_count": 2,
   "id": "4b0d3f76",
   "metadata": {
    "execution": {
     "iopub.execute_input": "2022-05-31T17:26:45.549497Z",
     "iopub.status.busy": "2022-05-31T17:26:45.549170Z",
     "iopub.status.idle": "2022-05-31T17:26:45.585281Z",
     "shell.execute_reply": "2022-05-31T17:26:45.584473Z"
    },
    "papermill": {
     "duration": 0.045403,
     "end_time": "2022-05-31T17:26:45.588064",
     "exception": false,
     "start_time": "2022-05-31T17:26:45.542661",
     "status": "completed"
    },
    "tags": []
   },
   "outputs": [
    {
     "data": {
      "text/html": [
       "<div>\n",
       "<style scoped>\n",
       "    .dataframe tbody tr th:only-of-type {\n",
       "        vertical-align: middle;\n",
       "    }\n",
       "\n",
       "    .dataframe tbody tr th {\n",
       "        vertical-align: top;\n",
       "    }\n",
       "\n",
       "    .dataframe thead th {\n",
       "        text-align: right;\n",
       "    }\n",
       "</style>\n",
       "<table border=\"1\" class=\"dataframe\">\n",
       "  <thead>\n",
       "    <tr style=\"text-align: right;\">\n",
       "      <th></th>\n",
       "      <th>PassengerId</th>\n",
       "      <th>Survived</th>\n",
       "      <th>Pclass</th>\n",
       "      <th>Name</th>\n",
       "      <th>Sex</th>\n",
       "      <th>Age</th>\n",
       "      <th>SibSp</th>\n",
       "      <th>Parch</th>\n",
       "      <th>Ticket</th>\n",
       "      <th>Fare</th>\n",
       "      <th>Cabin</th>\n",
       "      <th>Embarked</th>\n",
       "    </tr>\n",
       "  </thead>\n",
       "  <tbody>\n",
       "    <tr>\n",
       "      <th>0</th>\n",
       "      <td>1</td>\n",
       "      <td>0</td>\n",
       "      <td>3</td>\n",
       "      <td>Braund, Mr. Owen Harris</td>\n",
       "      <td>male</td>\n",
       "      <td>22.0</td>\n",
       "      <td>1</td>\n",
       "      <td>0</td>\n",
       "      <td>A/5 21171</td>\n",
       "      <td>7.2500</td>\n",
       "      <td>NaN</td>\n",
       "      <td>S</td>\n",
       "    </tr>\n",
       "    <tr>\n",
       "      <th>1</th>\n",
       "      <td>2</td>\n",
       "      <td>1</td>\n",
       "      <td>1</td>\n",
       "      <td>Cumings, Mrs. John Bradley (Florence Briggs Th...</td>\n",
       "      <td>female</td>\n",
       "      <td>38.0</td>\n",
       "      <td>1</td>\n",
       "      <td>0</td>\n",
       "      <td>PC 17599</td>\n",
       "      <td>71.2833</td>\n",
       "      <td>C85</td>\n",
       "      <td>C</td>\n",
       "    </tr>\n",
       "    <tr>\n",
       "      <th>2</th>\n",
       "      <td>3</td>\n",
       "      <td>1</td>\n",
       "      <td>3</td>\n",
       "      <td>Heikkinen, Miss. Laina</td>\n",
       "      <td>female</td>\n",
       "      <td>26.0</td>\n",
       "      <td>0</td>\n",
       "      <td>0</td>\n",
       "      <td>STON/O2. 3101282</td>\n",
       "      <td>7.9250</td>\n",
       "      <td>NaN</td>\n",
       "      <td>S</td>\n",
       "    </tr>\n",
       "    <tr>\n",
       "      <th>3</th>\n",
       "      <td>4</td>\n",
       "      <td>1</td>\n",
       "      <td>1</td>\n",
       "      <td>Futrelle, Mrs. Jacques Heath (Lily May Peel)</td>\n",
       "      <td>female</td>\n",
       "      <td>35.0</td>\n",
       "      <td>1</td>\n",
       "      <td>0</td>\n",
       "      <td>113803</td>\n",
       "      <td>53.1000</td>\n",
       "      <td>C123</td>\n",
       "      <td>S</td>\n",
       "    </tr>\n",
       "    <tr>\n",
       "      <th>4</th>\n",
       "      <td>5</td>\n",
       "      <td>0</td>\n",
       "      <td>3</td>\n",
       "      <td>Allen, Mr. William Henry</td>\n",
       "      <td>male</td>\n",
       "      <td>35.0</td>\n",
       "      <td>0</td>\n",
       "      <td>0</td>\n",
       "      <td>373450</td>\n",
       "      <td>8.0500</td>\n",
       "      <td>NaN</td>\n",
       "      <td>S</td>\n",
       "    </tr>\n",
       "    <tr>\n",
       "      <th>5</th>\n",
       "      <td>6</td>\n",
       "      <td>0</td>\n",
       "      <td>3</td>\n",
       "      <td>Moran, Mr. James</td>\n",
       "      <td>male</td>\n",
       "      <td>NaN</td>\n",
       "      <td>0</td>\n",
       "      <td>0</td>\n",
       "      <td>330877</td>\n",
       "      <td>8.4583</td>\n",
       "      <td>NaN</td>\n",
       "      <td>Q</td>\n",
       "    </tr>\n",
       "    <tr>\n",
       "      <th>6</th>\n",
       "      <td>7</td>\n",
       "      <td>0</td>\n",
       "      <td>1</td>\n",
       "      <td>McCarthy, Mr. Timothy J</td>\n",
       "      <td>male</td>\n",
       "      <td>54.0</td>\n",
       "      <td>0</td>\n",
       "      <td>0</td>\n",
       "      <td>17463</td>\n",
       "      <td>51.8625</td>\n",
       "      <td>E46</td>\n",
       "      <td>S</td>\n",
       "    </tr>\n",
       "    <tr>\n",
       "      <th>7</th>\n",
       "      <td>8</td>\n",
       "      <td>0</td>\n",
       "      <td>3</td>\n",
       "      <td>Palsson, Master. Gosta Leonard</td>\n",
       "      <td>male</td>\n",
       "      <td>2.0</td>\n",
       "      <td>3</td>\n",
       "      <td>1</td>\n",
       "      <td>349909</td>\n",
       "      <td>21.0750</td>\n",
       "      <td>NaN</td>\n",
       "      <td>S</td>\n",
       "    </tr>\n",
       "    <tr>\n",
       "      <th>8</th>\n",
       "      <td>9</td>\n",
       "      <td>1</td>\n",
       "      <td>3</td>\n",
       "      <td>Johnson, Mrs. Oscar W (Elisabeth Vilhelmina Berg)</td>\n",
       "      <td>female</td>\n",
       "      <td>27.0</td>\n",
       "      <td>0</td>\n",
       "      <td>2</td>\n",
       "      <td>347742</td>\n",
       "      <td>11.1333</td>\n",
       "      <td>NaN</td>\n",
       "      <td>S</td>\n",
       "    </tr>\n",
       "    <tr>\n",
       "      <th>9</th>\n",
       "      <td>10</td>\n",
       "      <td>1</td>\n",
       "      <td>2</td>\n",
       "      <td>Nasser, Mrs. Nicholas (Adele Achem)</td>\n",
       "      <td>female</td>\n",
       "      <td>14.0</td>\n",
       "      <td>1</td>\n",
       "      <td>0</td>\n",
       "      <td>237736</td>\n",
       "      <td>30.0708</td>\n",
       "      <td>NaN</td>\n",
       "      <td>C</td>\n",
       "    </tr>\n",
       "  </tbody>\n",
       "</table>\n",
       "</div>"
      ],
      "text/plain": [
       "   PassengerId  Survived  Pclass  \\\n",
       "0            1         0       3   \n",
       "1            2         1       1   \n",
       "2            3         1       3   \n",
       "3            4         1       1   \n",
       "4            5         0       3   \n",
       "5            6         0       3   \n",
       "6            7         0       1   \n",
       "7            8         0       3   \n",
       "8            9         1       3   \n",
       "9           10         1       2   \n",
       "\n",
       "                                                Name     Sex   Age  SibSp  \\\n",
       "0                            Braund, Mr. Owen Harris    male  22.0      1   \n",
       "1  Cumings, Mrs. John Bradley (Florence Briggs Th...  female  38.0      1   \n",
       "2                             Heikkinen, Miss. Laina  female  26.0      0   \n",
       "3       Futrelle, Mrs. Jacques Heath (Lily May Peel)  female  35.0      1   \n",
       "4                           Allen, Mr. William Henry    male  35.0      0   \n",
       "5                                   Moran, Mr. James    male   NaN      0   \n",
       "6                            McCarthy, Mr. Timothy J    male  54.0      0   \n",
       "7                     Palsson, Master. Gosta Leonard    male   2.0      3   \n",
       "8  Johnson, Mrs. Oscar W (Elisabeth Vilhelmina Berg)  female  27.0      0   \n",
       "9                Nasser, Mrs. Nicholas (Adele Achem)  female  14.0      1   \n",
       "\n",
       "   Parch            Ticket     Fare Cabin Embarked  \n",
       "0      0         A/5 21171   7.2500   NaN        S  \n",
       "1      0          PC 17599  71.2833   C85        C  \n",
       "2      0  STON/O2. 3101282   7.9250   NaN        S  \n",
       "3      0            113803  53.1000  C123        S  \n",
       "4      0            373450   8.0500   NaN        S  \n",
       "5      0            330877   8.4583   NaN        Q  \n",
       "6      0             17463  51.8625   E46        S  \n",
       "7      1            349909  21.0750   NaN        S  \n",
       "8      2            347742  11.1333   NaN        S  \n",
       "9      0            237736  30.0708   NaN        C  "
      ]
     },
     "execution_count": 2,
     "metadata": {},
     "output_type": "execute_result"
    }
   ],
   "source": [
    "train_df=pd.read_csv('/kaggle/input/titanic/train.csv')\n",
    "train_df.head(10)"
   ]
  },
  {
   "cell_type": "code",
   "execution_count": 3,
   "id": "d64897b6",
   "metadata": {
    "execution": {
     "iopub.execute_input": "2022-05-31T17:26:45.601535Z",
     "iopub.status.busy": "2022-05-31T17:26:45.600987Z",
     "iopub.status.idle": "2022-05-31T17:26:45.605948Z",
     "shell.execute_reply": "2022-05-31T17:26:45.605392Z"
    },
    "papermill": {
     "duration": 0.013487,
     "end_time": "2022-05-31T17:26:45.607550",
     "exception": false,
     "start_time": "2022-05-31T17:26:45.594063",
     "status": "completed"
    },
    "tags": []
   },
   "outputs": [
    {
     "data": {
      "text/plain": [
       "(891, 12)"
      ]
     },
     "execution_count": 3,
     "metadata": {},
     "output_type": "execute_result"
    }
   ],
   "source": [
    "train_df.shape"
   ]
  },
  {
   "cell_type": "code",
   "execution_count": 4,
   "id": "3523f7d9",
   "metadata": {
    "execution": {
     "iopub.execute_input": "2022-05-31T17:26:45.620839Z",
     "iopub.status.busy": "2022-05-31T17:26:45.620344Z",
     "iopub.status.idle": "2022-05-31T17:26:45.642157Z",
     "shell.execute_reply": "2022-05-31T17:26:45.641580Z"
    },
    "papermill": {
     "duration": 0.030345,
     "end_time": "2022-05-31T17:26:45.643830",
     "exception": false,
     "start_time": "2022-05-31T17:26:45.613485",
     "status": "completed"
    },
    "tags": []
   },
   "outputs": [
    {
     "data": {
      "text/html": [
       "<div>\n",
       "<style scoped>\n",
       "    .dataframe tbody tr th:only-of-type {\n",
       "        vertical-align: middle;\n",
       "    }\n",
       "\n",
       "    .dataframe tbody tr th {\n",
       "        vertical-align: top;\n",
       "    }\n",
       "\n",
       "    .dataframe thead th {\n",
       "        text-align: right;\n",
       "    }\n",
       "</style>\n",
       "<table border=\"1\" class=\"dataframe\">\n",
       "  <thead>\n",
       "    <tr style=\"text-align: right;\">\n",
       "      <th></th>\n",
       "      <th>PassengerId</th>\n",
       "      <th>Pclass</th>\n",
       "      <th>Name</th>\n",
       "      <th>Sex</th>\n",
       "      <th>Age</th>\n",
       "      <th>SibSp</th>\n",
       "      <th>Parch</th>\n",
       "      <th>Ticket</th>\n",
       "      <th>Fare</th>\n",
       "      <th>Cabin</th>\n",
       "      <th>Embarked</th>\n",
       "    </tr>\n",
       "  </thead>\n",
       "  <tbody>\n",
       "    <tr>\n",
       "      <th>0</th>\n",
       "      <td>892</td>\n",
       "      <td>3</td>\n",
       "      <td>Kelly, Mr. James</td>\n",
       "      <td>male</td>\n",
       "      <td>34.5</td>\n",
       "      <td>0</td>\n",
       "      <td>0</td>\n",
       "      <td>330911</td>\n",
       "      <td>7.8292</td>\n",
       "      <td>NaN</td>\n",
       "      <td>Q</td>\n",
       "    </tr>\n",
       "    <tr>\n",
       "      <th>1</th>\n",
       "      <td>893</td>\n",
       "      <td>3</td>\n",
       "      <td>Wilkes, Mrs. James (Ellen Needs)</td>\n",
       "      <td>female</td>\n",
       "      <td>47.0</td>\n",
       "      <td>1</td>\n",
       "      <td>0</td>\n",
       "      <td>363272</td>\n",
       "      <td>7.0000</td>\n",
       "      <td>NaN</td>\n",
       "      <td>S</td>\n",
       "    </tr>\n",
       "    <tr>\n",
       "      <th>2</th>\n",
       "      <td>894</td>\n",
       "      <td>2</td>\n",
       "      <td>Myles, Mr. Thomas Francis</td>\n",
       "      <td>male</td>\n",
       "      <td>62.0</td>\n",
       "      <td>0</td>\n",
       "      <td>0</td>\n",
       "      <td>240276</td>\n",
       "      <td>9.6875</td>\n",
       "      <td>NaN</td>\n",
       "      <td>Q</td>\n",
       "    </tr>\n",
       "    <tr>\n",
       "      <th>3</th>\n",
       "      <td>895</td>\n",
       "      <td>3</td>\n",
       "      <td>Wirz, Mr. Albert</td>\n",
       "      <td>male</td>\n",
       "      <td>27.0</td>\n",
       "      <td>0</td>\n",
       "      <td>0</td>\n",
       "      <td>315154</td>\n",
       "      <td>8.6625</td>\n",
       "      <td>NaN</td>\n",
       "      <td>S</td>\n",
       "    </tr>\n",
       "    <tr>\n",
       "      <th>4</th>\n",
       "      <td>896</td>\n",
       "      <td>3</td>\n",
       "      <td>Hirvonen, Mrs. Alexander (Helga E Lindqvist)</td>\n",
       "      <td>female</td>\n",
       "      <td>22.0</td>\n",
       "      <td>1</td>\n",
       "      <td>1</td>\n",
       "      <td>3101298</td>\n",
       "      <td>12.2875</td>\n",
       "      <td>NaN</td>\n",
       "      <td>S</td>\n",
       "    </tr>\n",
       "  </tbody>\n",
       "</table>\n",
       "</div>"
      ],
      "text/plain": [
       "   PassengerId  Pclass                                          Name     Sex  \\\n",
       "0          892       3                              Kelly, Mr. James    male   \n",
       "1          893       3              Wilkes, Mrs. James (Ellen Needs)  female   \n",
       "2          894       2                     Myles, Mr. Thomas Francis    male   \n",
       "3          895       3                              Wirz, Mr. Albert    male   \n",
       "4          896       3  Hirvonen, Mrs. Alexander (Helga E Lindqvist)  female   \n",
       "\n",
       "    Age  SibSp  Parch   Ticket     Fare Cabin Embarked  \n",
       "0  34.5      0      0   330911   7.8292   NaN        Q  \n",
       "1  47.0      1      0   363272   7.0000   NaN        S  \n",
       "2  62.0      0      0   240276   9.6875   NaN        Q  \n",
       "3  27.0      0      0   315154   8.6625   NaN        S  \n",
       "4  22.0      1      1  3101298  12.2875   NaN        S  "
      ]
     },
     "execution_count": 4,
     "metadata": {},
     "output_type": "execute_result"
    }
   ],
   "source": [
    "test_df =pd.read_csv('/kaggle/input/titanic/test.csv')\n",
    "test_df.head()"
   ]
  },
  {
   "cell_type": "code",
   "execution_count": 5,
   "id": "6f923286",
   "metadata": {
    "execution": {
     "iopub.execute_input": "2022-05-31T17:26:45.657927Z",
     "iopub.status.busy": "2022-05-31T17:26:45.657390Z",
     "iopub.status.idle": "2022-05-31T17:26:45.662099Z",
     "shell.execute_reply": "2022-05-31T17:26:45.661532Z"
    },
    "papermill": {
     "duration": 0.013561,
     "end_time": "2022-05-31T17:26:45.663754",
     "exception": false,
     "start_time": "2022-05-31T17:26:45.650193",
     "status": "completed"
    },
    "tags": []
   },
   "outputs": [
    {
     "data": {
      "text/plain": [
       "(418, 11)"
      ]
     },
     "execution_count": 5,
     "metadata": {},
     "output_type": "execute_result"
    }
   ],
   "source": [
    "test_df.shape"
   ]
  },
  {
   "cell_type": "code",
   "execution_count": 6,
   "id": "047bc978",
   "metadata": {
    "execution": {
     "iopub.execute_input": "2022-05-31T17:26:45.678301Z",
     "iopub.status.busy": "2022-05-31T17:26:45.677776Z",
     "iopub.status.idle": "2022-05-31T17:26:45.693530Z",
     "shell.execute_reply": "2022-05-31T17:26:45.692608Z"
    },
    "papermill": {
     "duration": 0.025088,
     "end_time": "2022-05-31T17:26:45.695526",
     "exception": false,
     "start_time": "2022-05-31T17:26:45.670438",
     "status": "completed"
    },
    "tags": []
   },
   "outputs": [
    {
     "name": "stdout",
     "output_type": "stream",
     "text": [
      "% the Survival women rate from the training set is 0.7420382165605095\n"
     ]
    }
   ],
   "source": [
    "women = train_df.loc[ train_df['Sex']=='female']['Survived']\n",
    "women_rate = sum(women)/len(women)\n",
    "print(\"% the Survival women rate from the training set is\",women_rate)\n",
    "\n",
    "\n"
   ]
  },
  {
   "cell_type": "code",
   "execution_count": 7,
   "id": "5985fc4f",
   "metadata": {
    "execution": {
     "iopub.execute_input": "2022-05-31T17:26:45.710018Z",
     "iopub.status.busy": "2022-05-31T17:26:45.709213Z",
     "iopub.status.idle": "2022-05-31T17:26:45.716428Z",
     "shell.execute_reply": "2022-05-31T17:26:45.715315Z"
    },
    "papermill": {
     "duration": 0.016387,
     "end_time": "2022-05-31T17:26:45.718360",
     "exception": false,
     "start_time": "2022-05-31T17:26:45.701973",
     "status": "completed"
    },
    "tags": []
   },
   "outputs": [
    {
     "name": "stdout",
     "output_type": "stream",
     "text": [
      "% the Survival men rate from the training set is  0.18890814558058924\n"
     ]
    }
   ],
   "source": [
    "men = train_df.loc[train_df['Sex']=='male']['Survived']\n",
    "men_rate = sum(men)/len(men)\n",
    "print(\"% the Survival men rate from the training set is \",men_rate)"
   ]
  },
  {
   "cell_type": "code",
   "execution_count": 8,
   "id": "5f42732e",
   "metadata": {
    "execution": {
     "iopub.execute_input": "2022-05-31T17:26:45.732858Z",
     "iopub.status.busy": "2022-05-31T17:26:45.732105Z",
     "iopub.status.idle": "2022-05-31T17:26:46.951035Z",
     "shell.execute_reply": "2022-05-31T17:26:46.949901Z"
    },
    "papermill": {
     "duration": 1.230754,
     "end_time": "2022-05-31T17:26:46.955536",
     "exception": false,
     "start_time": "2022-05-31T17:26:45.724782",
     "status": "completed"
    },
    "tags": []
   },
   "outputs": [],
   "source": [
    "from sklearn.ensemble import RandomForestClassifier\n",
    "from sklearn.preprocessing import OneHotEncoder"
   ]
  },
  {
   "cell_type": "code",
   "execution_count": 9,
   "id": "a3de30b3",
   "metadata": {
    "execution": {
     "iopub.execute_input": "2022-05-31T17:26:46.971095Z",
     "iopub.status.busy": "2022-05-31T17:26:46.970330Z",
     "iopub.status.idle": "2022-05-31T17:26:46.976761Z",
     "shell.execute_reply": "2022-05-31T17:26:46.975613Z"
    },
    "papermill": {
     "duration": 0.01685,
     "end_time": "2022-05-31T17:26:46.979479",
     "exception": false,
     "start_time": "2022-05-31T17:26:46.962629",
     "status": "completed"
    },
    "tags": []
   },
   "outputs": [],
   "source": [
    "features = ['Pclass','Sex','SibSp','Parch']"
   ]
  },
  {
   "cell_type": "code",
   "execution_count": 10,
   "id": "b9c5a31b",
   "metadata": {
    "execution": {
     "iopub.execute_input": "2022-05-31T17:26:47.000184Z",
     "iopub.status.busy": "2022-05-31T17:26:46.999092Z",
     "iopub.status.idle": "2022-05-31T17:26:47.008485Z",
     "shell.execute_reply": "2022-05-31T17:26:47.007698Z"
    },
    "papermill": {
     "duration": 0.020618,
     "end_time": "2022-05-31T17:26:47.010975",
     "exception": false,
     "start_time": "2022-05-31T17:26:46.990357",
     "status": "completed"
    },
    "tags": []
   },
   "outputs": [],
   "source": [
    "enc = OneHotEncoder(sparse=False,handle_unknown = 'ignore').fit(train_df[features])"
   ]
  },
  {
   "cell_type": "code",
   "execution_count": 11,
   "id": "aa1a7e14",
   "metadata": {
    "execution": {
     "iopub.execute_input": "2022-05-31T17:26:47.028383Z",
     "iopub.status.busy": "2022-05-31T17:26:47.027921Z",
     "iopub.status.idle": "2022-05-31T17:26:47.034389Z",
     "shell.execute_reply": "2022-05-31T17:26:47.033590Z"
    },
    "papermill": {
     "duration": 0.017753,
     "end_time": "2022-05-31T17:26:47.036235",
     "exception": false,
     "start_time": "2022-05-31T17:26:47.018482",
     "status": "completed"
    },
    "tags": []
   },
   "outputs": [
    {
     "data": {
      "text/plain": [
       "[array([1, 2, 3]),\n",
       " array(['female', 'male'], dtype=object),\n",
       " array([0, 1, 2, 3, 4, 5, 8]),\n",
       " array([0, 1, 2, 3, 4, 5, 6])]"
      ]
     },
     "execution_count": 11,
     "metadata": {},
     "output_type": "execute_result"
    }
   ],
   "source": [
    "enc.categories_"
   ]
  },
  {
   "cell_type": "code",
   "execution_count": 12,
   "id": "51280bd6",
   "metadata": {
    "execution": {
     "iopub.execute_input": "2022-05-31T17:26:47.051018Z",
     "iopub.status.busy": "2022-05-31T17:26:47.050488Z",
     "iopub.status.idle": "2022-05-31T17:26:47.054283Z",
     "shell.execute_reply": "2022-05-31T17:26:47.053756Z"
    },
    "papermill": {
     "duration": 0.013196,
     "end_time": "2022-05-31T17:26:47.056128",
     "exception": false,
     "start_time": "2022-05-31T17:26:47.042932",
     "status": "completed"
    },
    "tags": []
   },
   "outputs": [],
   "source": [
    "encoded_cols = enc.get_feature_names_out(features)"
   ]
  },
  {
   "cell_type": "code",
   "execution_count": 13,
   "id": "0527a872",
   "metadata": {
    "execution": {
     "iopub.execute_input": "2022-05-31T17:26:47.070849Z",
     "iopub.status.busy": "2022-05-31T17:26:47.070356Z",
     "iopub.status.idle": "2022-05-31T17:26:47.096796Z",
     "shell.execute_reply": "2022-05-31T17:26:47.096105Z"
    },
    "papermill": {
     "duration": 0.035961,
     "end_time": "2022-05-31T17:26:47.098623",
     "exception": false,
     "start_time": "2022-05-31T17:26:47.062662",
     "status": "completed"
    },
    "tags": []
   },
   "outputs": [],
   "source": [
    "train_df[encoded_cols] = enc. transform(train_df[features])\n",
    "test_df[encoded_cols ] =enc. transform(test_df[features])\n"
   ]
  },
  {
   "cell_type": "markdown",
   "id": "eec6d2bc",
   "metadata": {
    "papermill": {
     "duration": 0.006595,
     "end_time": "2022-05-31T17:26:47.111850",
     "exception": false,
     "start_time": "2022-05-31T17:26:47.105255",
     "status": "completed"
    },
    "tags": []
   },
   "source": [
    "**The Random Forest Model**"
   ]
  },
  {
   "cell_type": "code",
   "execution_count": 14,
   "id": "5d215c17",
   "metadata": {
    "execution": {
     "iopub.execute_input": "2022-05-31T17:26:47.126883Z",
     "iopub.status.busy": "2022-05-31T17:26:47.126315Z",
     "iopub.status.idle": "2022-05-31T17:26:47.130820Z",
     "shell.execute_reply": "2022-05-31T17:26:47.130072Z"
    },
    "papermill": {
     "duration": 0.014235,
     "end_time": "2022-05-31T17:26:47.132663",
     "exception": false,
     "start_time": "2022-05-31T17:26:47.118428",
     "status": "completed"
    },
    "tags": []
   },
   "outputs": [],
   "source": [
    "model = RandomForestClassifier(random_state =42,n_jobs=-1,n_estimators=100, max_depth=10)"
   ]
  },
  {
   "cell_type": "code",
   "execution_count": 15,
   "id": "aae3f48f",
   "metadata": {
    "execution": {
     "iopub.execute_input": "2022-05-31T17:26:47.147121Z",
     "iopub.status.busy": "2022-05-31T17:26:47.146812Z",
     "iopub.status.idle": "2022-05-31T17:26:47.508119Z",
     "shell.execute_reply": "2022-05-31T17:26:47.507483Z"
    },
    "papermill": {
     "duration": 0.370964,
     "end_time": "2022-05-31T17:26:47.510033",
     "exception": false,
     "start_time": "2022-05-31T17:26:47.139069",
     "status": "completed"
    },
    "tags": []
   },
   "outputs": [
    {
     "data": {
      "text/plain": [
       "RandomForestClassifier(max_depth=10, n_jobs=-1, random_state=42)"
      ]
     },
     "execution_count": 15,
     "metadata": {},
     "output_type": "execute_result"
    }
   ],
   "source": [
    "model.fit(train_df[encoded_cols],train_df['Survived'])"
   ]
  },
  {
   "cell_type": "code",
   "execution_count": 16,
   "id": "5148f95f",
   "metadata": {
    "execution": {
     "iopub.execute_input": "2022-05-31T17:26:47.525508Z",
     "iopub.status.busy": "2022-05-31T17:26:47.524554Z",
     "iopub.status.idle": "2022-05-31T17:26:47.636264Z",
     "shell.execute_reply": "2022-05-31T17:26:47.635621Z"
    },
    "papermill": {
     "duration": 0.121226,
     "end_time": "2022-05-31T17:26:47.637992",
     "exception": false,
     "start_time": "2022-05-31T17:26:47.516766",
     "status": "completed"
    },
    "tags": []
   },
   "outputs": [
    {
     "data": {
      "text/plain": [
       "0.8170594837261503"
      ]
     },
     "execution_count": 16,
     "metadata": {},
     "output_type": "execute_result"
    }
   ],
   "source": [
    "model.score(train_df[encoded_cols],train_df['Survived'])\n"
   ]
  },
  {
   "cell_type": "code",
   "execution_count": 17,
   "id": "c9e8fcb3",
   "metadata": {
    "execution": {
     "iopub.execute_input": "2022-05-31T17:26:47.653213Z",
     "iopub.status.busy": "2022-05-31T17:26:47.652656Z",
     "iopub.status.idle": "2022-05-31T17:26:47.761649Z",
     "shell.execute_reply": "2022-05-31T17:26:47.760874Z"
    },
    "papermill": {
     "duration": 0.118773,
     "end_time": "2022-05-31T17:26:47.763814",
     "exception": false,
     "start_time": "2022-05-31T17:26:47.645041",
     "status": "completed"
    },
    "tags": []
   },
   "outputs": [],
   "source": [
    "prediction = model.predict(test_df[encoded_cols])\n"
   ]
  },
  {
   "cell_type": "code",
   "execution_count": 18,
   "id": "b0a51699",
   "metadata": {
    "execution": {
     "iopub.execute_input": "2022-05-31T17:26:47.779270Z",
     "iopub.status.busy": "2022-05-31T17:26:47.778715Z",
     "iopub.status.idle": "2022-05-31T17:26:47.786500Z",
     "shell.execute_reply": "2022-05-31T17:26:47.785899Z"
    },
    "papermill": {
     "duration": 0.017552,
     "end_time": "2022-05-31T17:26:47.788311",
     "exception": false,
     "start_time": "2022-05-31T17:26:47.770759",
     "status": "completed"
    },
    "tags": []
   },
   "outputs": [],
   "source": [
    "output = pd.DataFrame({'Pasajero': test_df['PassengerId'], 'Sobrevivientes': prediction })\n",
    "output.to_csv('submission.csv',index=False)"
   ]
  }
 ],
 "metadata": {
  "kernelspec": {
   "display_name": "Python 3",
   "language": "python",
   "name": "python3"
  },
  "language_info": {
   "codemirror_mode": {
    "name": "ipython",
    "version": 3
   },
   "file_extension": ".py",
   "mimetype": "text/x-python",
   "name": "python",
   "nbconvert_exporter": "python",
   "pygments_lexer": "ipython3",
   "version": "3.7.12"
  },
  "papermill": {
   "default_parameters": {},
   "duration": 11.941367,
   "end_time": "2022-05-31T17:26:48.415154",
   "environment_variables": {},
   "exception": null,
   "input_path": "__notebook__.ipynb",
   "output_path": "__notebook__.ipynb",
   "parameters": {},
   "start_time": "2022-05-31T17:26:36.473787",
   "version": "2.3.4"
  }
 },
 "nbformat": 4,
 "nbformat_minor": 5
}
